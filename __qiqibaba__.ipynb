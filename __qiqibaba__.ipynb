{
 "cells": [
  {
   "cell_type": "code",
   "execution_count": 1,
   "metadata": {},
   "outputs": [],
   "source": [
    "# coding = utf-8"
   ]
  },
  {
   "cell_type": "code",
   "execution_count": 2,
   "metadata": {},
   "outputs": [],
   "source": [
    "%matplotlib inline\n",
    "import matplotlib.pyplot as plt"
   ]
  },
  {
   "cell_type": "code",
   "execution_count": 3,
   "metadata": {},
   "outputs": [
    {
     "name": "stdout",
     "output_type": "stream",
     "text": [
      "Computing Machinery And Intelligence\n"
     ]
    }
   ],
   "source": [
    "print('COMPUTING MACHINERY AND INTELLIGENCE'.title())"
   ]
  },
  {
   "cell_type": "code",
   "execution_count": 4,
   "metadata": {},
   "outputs": [
    {
     "data": {
      "text/plain": [
       "'从2000年到2005年，互联网上使用英语的人数仅仅增加了126.9%，而在此期间，互联网上使用俄语的人数增加了664.5%，使用葡萄牙语的人数增加了327.3%，使用中文的人数增加了309.6%，使用法语的人数增加了235.9%。互联网上使用英语之外的其他语言的人数增加得越来越多，英语在互联网上独霸天下的局面已经打破，互联网确实已经变成了多语言的网络世界。英语、汉语、日语、西班牙语、德语、法语、韩国语、葡萄牙语、意大利语和俄语成为了十大网络语言。'"
      ]
     },
     "execution_count": 4,
     "metadata": {},
     "output_type": "execute_result"
    }
   ],
   "source": [
    "# 去掉字符串raw的空格\n",
    "raw = '从2000年到2005年，互联网上使用英语的人数仅仅增加了126.9%，而在此期间，互联网上使用俄语的人数增加了664.5%，使用葡萄牙语的人数增加了327.3%，使用中文的人数增加了309.6%，使用法语的人数增加了235.9%。互联网   \\\n",
    "上使用英语之外的其他语言的人数增加得越来越多，英语在互联网上独霸天下的局面已经打破，互联网确实已经变成  了多语言的网络世界   。 \\n \\\n",
    "英语、汉语、日语、西班牙语、德语、法语、韩国语、葡萄牙语、意大利语和俄语成为了十大网络语言。'\n",
    "''.join(raw.split())"
   ]
  },
  {
   "cell_type": "code",
   "execution_count": 5,
   "metadata": {},
   "outputs": [
    {
     "name": "stdout",
     "output_type": "stream",
     "text": [
      "0.13436424411240122\t0.8474337369372327\t\n",
      "0.13436424411240122\t0.8474337369372327\t"
     ]
    }
   ],
   "source": [
    "import random\n",
    "random.seed(1)\n",
    "for i in range(2):\n",
    "    print(random.random(),end='\\t')\n",
    "\n",
    "print()\n",
    "random.seed(1)\n",
    "for i in range(2):\n",
    "    print(random.random(),end='\\t') "
   ]
  },
  {
   "cell_type": "code",
   "execution_count": 8,
   "metadata": {},
   "outputs": [],
   "source": [
    "import numpy as np"
   ]
  },
  {
   "cell_type": "code",
   "execution_count": 9,
   "metadata": {},
   "outputs": [
    {
     "data": {
      "image/png": "[encoded data removed]",
      "text/plain": [
       "<Figure size 432x288 with 2 Axes>"
      ]
     },
     "metadata": {},
     "output_type": "display_data"
    }
   ],
   "source": [
    "import seaborn as sns\n",
    "sns.set()\n",
    "np.random.seed(0)\n",
    "uniform_data = np.random.rand(10, 12)\n",
    "ax = sns.heatmap(uniform_data)\n",
    "plt.show()"
   ]
  },
  {
   "cell_type": "code",
   "execution_count": 10,
   "metadata": {},
   "outputs": [
    {
     "name": "stdout",
     "output_type": "stream",
     "text": [
      "before ...\n",
      "func was called\n",
      "after ...\n"
     ]
    }
   ],
   "source": [
    "# @注释符类似于声明函数指针\n",
    "# 下例中表示test()函数可以参数的形式调用func()函数\n",
    "def test(f):\n",
    "    print( \"before ...\")\n",
    "    f()\n",
    "    print( \"after ...\")\n",
    "\n",
    "@test\n",
    "def func():\n",
    "    print( \"func was called\" )"
   ]
  },
  {
   "cell_type": "code",
   "execution_count": 4,
   "metadata": {},
   "outputs": [
    {
     "data": {
      "text/plain": [
       "'/DATA/xlwang/qiqibaba'"
      ]
     },
     "execution_count": 4,
     "metadata": {},
     "output_type": "execute_result"
    }
   ],
   "source": [
    "import os\n",
    "cur_dir = os.path.abspath(os.path.dirname('__file__')) #当前目录的绝对路径\n",
    "cur_dir"
   ]
  },
  {
   "cell_type": "code",
   "execution_count": 6,
   "metadata": {},
   "outputs": [
    {
     "data": {
      "text/plain": [
       "'/DATA/xlwang/qiqibaba/some_dir'"
      ]
     },
     "execution_count": 6,
     "metadata": {},
     "output_type": "execute_result"
    }
   ],
   "source": [
    "join_dir = os.path.join(cur_dir,'some_dir') #拼接目录\n",
    "join_dir"
   ]
  },
  {
   "cell_type": "code",
   "execution_count": 8,
   "metadata": {},
   "outputs": [
    {
     "data": {
      "text/plain": [
       "'/DATA/xlwang/qiqibaba/..'"
      ]
     },
     "execution_count": 8,
     "metadata": {},
     "output_type": "execute_result"
    }
   ],
   "source": [
    "par_dir = os.path.join(cur_dir,os.path.pardir) #取cur_dir的上一级目录\n",
    "par_dir"
   ]
  },
  {
   "cell_type": "code",
   "execution_count": null,
   "metadata": {},
   "outputs": [],
   "source": [
    "dir_dispose= 'C:\\d1\\d2'\n",
    "# 修改dir_dispose目录下的所有文件的文件名\n",
    "for dirpath,dirnames,filenames in os.walk(dir_dispose):\n",
    "    for filename in filenames:\n",
    "#         new_name = 'S02E'+filename[:2]+filename[-4:]\n",
    "        new_name = filename[:6]+filename[-4:]  \n",
    "        os.rename(os.path.join(dirpath,filename),os.path.join(dirpath,new_name))"
   ]
  }
 ],
 "metadata": {
  "kernelspec": {
   "display_name": "common",
   "language": "python",
   "name": "common"
  },
  "language_info": {
   "codemirror_mode": {
    "name": "ipython",
    "version": 3
   },
   "file_extension": ".py",
   "mimetype": "text/x-python",
   "name": "python",
   "nbconvert_exporter": "python",
   "pygments_lexer": "ipython3",
   "version": "3.6.2"
  }
 },
 "nbformat": 4,
 "nbformat_minor": 2
}
